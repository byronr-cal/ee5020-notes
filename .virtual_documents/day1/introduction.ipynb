# This is a comment in Python. Edit this cell here by
#  typing your name into the print() function call.

print('Hello, my name is: ')


template = "Hello, my name is"
name = ""
print(template, name)



